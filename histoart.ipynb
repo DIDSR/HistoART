{
 "cells": [
  {
   "cell_type": "markdown",
   "metadata": {},
   "source": [
    "# Loading Packages"
   ]
  },
  {
   "cell_type": "code",
   "execution_count": null,
   "metadata": {},
   "outputs": [],
   "source": [
    "import os\n",
    "import torch\n",
    "from utils.visualize       import visualize_images_from_classes\n",
    "from utils.datasets        import returnDataLoader, returnFeatureLoader\n",
    "from utils.model_execution import runFMA, runDLA, runKBA\n",
    "from utils.analysis        import print_analysis"
   ]
  },
  {
   "cell_type": "code",
   "execution_count": null,
   "metadata": {},
   "outputs": [],
   "source": [
    "if torch.cuda.is_available():\n",
    "    device = torch.device(\"cuda\")\n",
    "elif torch.xpu.is_available():\n",
    "    device = torch.device(\"xpu\")\n",
    "elif torch.mps.is_available():\n",
    "    device = torch.device(\"mps\")\n",
    "else:\n",
    "    device = torch.device(\"cpu\")\n",
    "\n",
    "print(f\"Using device: {device}\")"
   ]
  },
  {
   "cell_type": "markdown",
   "metadata": {},
   "source": [
    "# Load Patches"
   ]
  },
  {
   "cell_type": "code",
   "execution_count": null,
   "metadata": {},
   "outputs": [],
   "source": [
    "while True:\n",
    "    data_dir = input(\"Please enter the dataset directory, for example: ./data/: \") or \"./data/combined/\"\n",
    "\n",
    "    if not os.path.isdir(data_dir):\n",
    "        print(f\"Directory '{data_dir}' does not exist. Please try again.\\n\")\n",
    "        continue\n",
    "    print(\"\\nDataset directory confirmed.\\n\")\n",
    "\n",
    "    break\n",
    "\n",
    "classes            = []\n",
    "artifact_free      = input(\"Please enter the name of the artifact free folder (e.g., artifact_free): \").strip()\n",
    "artifact_free_path = os.path.join(data_dir, artifact_free)\n",
    "\n",
    "if artifact_free and os.path.isdir(artifact_free_path):\n",
    "    classes.append(artifact_free)\n",
    "    print(f\"Folder '{artifact_free_path}' exists and was added as artifact free.\")\n",
    "else:\n",
    "    if artifact_free:\n",
    "        print(f\"Folder '{artifact_free_path}' does not exist. Please check the name.\")\n",
    "\n",
    "artifact      = input(\"Please enter the name of the artifact folder (e.g., artifact): \").strip()\n",
    "artifact_path = os.path.join(data_dir, artifact)\n",
    "\n",
    "if artifact and os.path.isdir(artifact_path):\n",
    "    classes.append(artifact)\n",
    "    print(f\"Folder '{artifact_path}' exists and was added as artifact.\")\n",
    "else:\n",
    "    if artifact:\n",
    "        print(f\"Folder '{artifact_path}' does not exist. Please check the name.\")\n",
    "\n",
    "if classes:\n",
    "    print(\"\\nDataset loaded successfully.\")\n",
    "else:\n",
    "    print(\"\\nNo valid class folders were provided. Defaulting to sample classes.\")\n",
    "    classes = ['artifact_free', 'blur']\n"
   ]
  },
  {
   "cell_type": "markdown",
   "metadata": {},
   "source": [
    "# Random visualization of different classes"
   ]
  },
  {
   "cell_type": "code",
   "execution_count": null,
   "metadata": {},
   "outputs": [],
   "source": [
    "visualize_images_from_classes(data_dir, classes)"
   ]
  },
  {
   "cell_type": "markdown",
   "metadata": {},
   "source": [
    "# Prepare data for classification"
   ]
  },
  {
   "cell_type": "code",
   "execution_count": null,
   "metadata": {},
   "outputs": [],
   "source": [
    "fma_dataloader = returnDataLoader(data_dir, classes, 16)\n",
    "print(\"Total dataset size (samples): \", len(fma_dataloader.dataset))\n",
    "\n",
    "dla_dataloader = returnDataLoader(data_dir, classes, 64)\n",
    "print(\"Total dataset size (samples): \", len(dla_dataloader.dataset))\n"
   ]
  },
  {
   "cell_type": "code",
   "execution_count": null,
   "metadata": {},
   "outputs": [],
   "source": [
    "feature_loader = returnFeatureLoader(data_dir)\n",
    "print(\"Total dataset size (samples): \", len(feature_loader.dataset))"
   ]
  },
  {
   "cell_type": "markdown",
   "metadata": {},
   "source": [
    "# Classify images with different models"
   ]
  },
  {
   "cell_type": "markdown",
   "metadata": {},
   "source": [
    "### FMA"
   ]
  },
  {
   "cell_type": "code",
   "execution_count": null,
   "metadata": {},
   "outputs": [],
   "source": [
    "runFMA(fma_dataloader, device, './models/fma_binary_blur.pth')"
   ]
  },
  {
   "cell_type": "markdown",
   "metadata": {},
   "source": [
    "### DLA"
   ]
  },
  {
   "cell_type": "code",
   "execution_count": null,
   "metadata": {},
   "outputs": [],
   "source": [
    "runDLA(dla_dataloader, device, './models/dla_binary.pth')"
   ]
  },
  {
   "cell_type": "markdown",
   "metadata": {},
   "source": [
    "### KBA"
   ]
  },
  {
   "cell_type": "code",
   "execution_count": null,
   "metadata": {},
   "outputs": [],
   "source": [
    "runKBA(feature_loader, './models/kba_binary.pkl')"
   ]
  },
  {
   "cell_type": "markdown",
   "metadata": {},
   "source": [
    "# Analysis"
   ]
  },
  {
   "cell_type": "code",
   "execution_count": null,
   "metadata": {},
   "outputs": [],
   "source": [
    "print_analysis('./results/fma_results.csv')\n",
    "print_analysis('./results/dla_results.csv')\n",
    "print_analysis('./results/kba_results.csv')"
   ]
  }
 ],
 "metadata": {
  "kernelspec": {
   "display_name": ".venv",
   "language": "python",
   "name": "python3"
  },
  "language_info": {
   "codemirror_mode": {
    "name": "ipython",
    "version": 3
   },
   "file_extension": ".py",
   "mimetype": "text/x-python",
   "name": "python",
   "nbconvert_exporter": "python",
   "pygments_lexer": "ipython3",
   "version": "3.12.3"
  }
 },
 "nbformat": 4,
 "nbformat_minor": 2
}
