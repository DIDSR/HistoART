{
 "cells": [
  {
   "cell_type": "code",
   "execution_count": 1,
   "metadata": {},
   "outputs": [],
   "source": [
    "import os\n",
    "import random\n",
    "import matplotlib.pyplot as plt\n",
    "from PIL import Image"
   ]
  },
  {
   "cell_type": "code",
   "execution_count": null,
   "metadata": {},
   "outputs": [],
   "source": [
    "basepath  = './data/'\n",
    "\n",
    "base_dirs = [\n",
    "    basepath + 'D40x/training/',\n",
    "    basepath + 'TCGA@Focus/',\n",
    "    basepath + 'DeepFocus/'\n",
    "]\n",
    "\n",
    "headers   = ['HistoArtifact', 'TCGA', 'DeepFocus'] \n",
    "classes   = ['artifact_free', 'blur']\n",
    "\n",
    "n_images  = 5\n",
    "\n",
    "\n",
    "image_columns = []  \n",
    "for cls in classes:\n",
    "    for base, name in zip(base_dirs, headers):\n",
    "        class_dir  = os.path.join(base, cls)\n",
    "        all_images = [os.path.join(class_dir, img) for img in os.listdir(class_dir) if img.lower().endswith(('png', 'jpg', 'jpeg'))]\n",
    "        selected   = random.sample(all_images, min(n_images, len(all_images)))\n",
    "\n",
    "        image_columns.append((f\"{cls} — {name}\", selected))\n",
    "\n",
    "fig, axs = plt.subplots(n_images, len(image_columns), figsize=(len(image_columns)*3, n_images*2.5))\n",
    "fig.suptitle(\"Artifact-Free and Blur Across Internal and External Datasets\", fontsize=16)\n",
    "\n",
    "for col, (label, img_paths) in enumerate(image_columns):\n",
    "    for row in range(n_images):\n",
    "\n",
    "        ax = axs[row, col]\n",
    "\n",
    "        if row < len(img_paths):\n",
    "            img = Image.open(img_paths[row])\n",
    "            ax.imshow(img)\n",
    "\n",
    "        ax.axis('off')\n",
    "\n",
    "        if row == 0:\n",
    "            ax.set_title(label, fontsize=10, pad=10)\n",
    "\n",
    "plt.tight_layout(rect=[0, 0, 1, 0.95])\n",
    "plt.show()\n"
   ]
  }
 ],
 "metadata": {
  "kernelspec": {
   "display_name": "histoart",
   "language": "python",
   "name": "python3"
  },
  "language_info": {
   "codemirror_mode": {
    "name": "ipython",
    "version": 3
   },
   "file_extension": ".py",
   "mimetype": "text/x-python",
   "name": "python",
   "nbconvert_exporter": "python",
   "pygments_lexer": "ipython3",
   "version": "3.11.13"
  }
 },
 "nbformat": 4,
 "nbformat_minor": 2
}
