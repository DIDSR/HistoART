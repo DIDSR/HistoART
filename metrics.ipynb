{
 "cells": [
  {
   "cell_type": "code",
   "execution_count": 3,
   "metadata": {},
   "outputs": [],
   "source": [
    "import pandas as pd\n",
    "import numpy as np\n",
    "from sklearn.metrics import accuracy_score, precision_score, recall_score, f1_score, roc_auc_score\n",
    "import matplotlib.pyplot as plt\n",
    "import seaborn as sns"
   ]
  },
  {
   "cell_type": "code",
   "execution_count": 13,
   "metadata": {},
   "outputs": [],
   "source": [
    "df = pd.read_csv('results/dla_results.csv')"
   ]
  },
  {
   "cell_type": "code",
   "execution_count": 14,
   "metadata": {},
   "outputs": [],
   "source": [
    "y_true  = df['True_Label'].astype(int)\n",
    "y_pred  = df['Predicted_Label'].astype(int)\n",
    "y_score = df['Prediction_Probability']"
   ]
  },
  {
   "cell_type": "code",
   "execution_count": 15,
   "metadata": {},
   "outputs": [],
   "source": [
    "accuracy  = accuracy_score(y_true, y_pred)\n",
    "precision = precision_score(y_true, y_pred, zero_division=0)\n",
    "recall    = recall_score(y_true, y_pred, zero_division=0)\n",
    "f1        = f1_score(y_true, y_pred, zero_division=0)"
   ]
  },
  {
   "cell_type": "code",
   "execution_count": 16,
   "metadata": {},
   "outputs": [],
   "source": [
    "np.random.seed(42)\n",
    "n_bootstraps = 100\n",
    "auc_scores   = []"
   ]
  },
  {
   "cell_type": "code",
   "execution_count": 17,
   "metadata": {},
   "outputs": [],
   "source": [
    "for _ in range(n_bootstraps):\n",
    "    indices      = np.random.choice(len(y_true), size=len(y_true), replace=True)\n",
    "    y_true_boot  = y_true.iloc[indices]\n",
    "    y_score_boot = y_score.iloc[indices]\n",
    "    auc          = roc_auc_score(y_true_boot, y_score_boot)\n",
    "    auc_scores.append(auc)"
   ]
  },
  {
   "cell_type": "code",
   "execution_count": 18,
   "metadata": {},
   "outputs": [],
   "source": [
    "mean_auc = np.mean(auc_scores)\n",
    "ci_lower = np.percentile(auc_scores, 2.5)\n",
    "ci_upper = np.percentile(auc_scores, 97.5)"
   ]
  },
  {
   "cell_type": "code",
   "execution_count": 19,
   "metadata": {},
   "outputs": [
    {
     "name": "stdout",
     "output_type": "stream",
     "text": [
      "Accuracy: 0.9705\n",
      "Precision: 0.9513\n",
      "Recall: 0.9965\n",
      "F1 Score: 0.9734\n",
      "\n",
      "Bootstrapped AUC (mean): 0.9978\n",
      "95% Confidence Interval: (0.9962, 0.9993)\n"
     ]
    }
   ],
   "source": [
    "print(f\"Accuracy: {accuracy:.4f}\")\n",
    "print(f\"Precision: {precision:.4f}\")\n",
    "print(f\"Recall: {recall:.4f}\")\n",
    "print(f\"F1 Score: {f1:.4f}\")\n",
    "print(f\"\\nBootstrapped AUC (mean): {mean_auc:.4f}\")\n",
    "print(f\"95% Confidence Interval: ({ci_lower:.4f}, {ci_upper:.4f})\")"
   ]
  },
  {
   "cell_type": "markdown",
   "metadata": {},
   "source": [
    "Accuracy: 0.9696\n",
    "Precision: 0.9482\n",
    "Recall: 0.9982\n",
    "F1 Score: 0.9726\n",
    "\n",
    "Bootstrapped AUC (mean): 0.9983\n",
    "95% Confidence Interval: (0.9973, 0.9991)"
   ]
  },
  {
   "cell_type": "markdown",
   "metadata": {},
   "source": [
    "Accuracy: 0.9705\n",
    "Precision: 0.9513\n",
    "Recall: 0.9965\n",
    "F1 Score: 0.9734\n",
    "\n",
    "Bootstrapped AUC (mean): 0.9978\n",
    "95% Confidence Interval: (0.9962, 0.9993)"
   ]
  },
  {
   "cell_type": "markdown",
   "metadata": {},
   "source": []
  }
 ],
 "metadata": {
  "kernelspec": {
   "display_name": ".venv",
   "language": "python",
   "name": "python3"
  },
  "language_info": {
   "codemirror_mode": {
    "name": "ipython",
    "version": 3
   },
   "file_extension": ".py",
   "mimetype": "text/x-python",
   "name": "python",
   "nbconvert_exporter": "python",
   "pygments_lexer": "ipython3",
   "version": "3.12.3"
  }
 },
 "nbformat": 4,
 "nbformat_minor": 2
}
